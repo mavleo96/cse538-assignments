{
 "cells": [
  {
   "cell_type": "code",
   "execution_count": 16,
   "metadata": {},
   "outputs": [
    {
     "name": "stdout",
     "output_type": "stream",
     "text": [
      "Best sense: bank.n.01 - sloping land (especially the slope beside a body of water)\n"
     ]
    }
   ],
   "source": [
    "from nltk.corpus import wordnet\n",
    "\n",
    "def lesk_algorithm(word, sentence):\n",
    "    best_sense = None\n",
    "    max_overlap = 0\n",
    "    context = set(sentence.split())  # Tokenize sentence into words\n",
    "\n",
    "    for sense in wordnet.synsets(word):\n",
    "        gloss = set(sense.definition().split())  # Tokenize gloss\n",
    "        overlap = len(context.intersection(gloss))\n",
    "\n",
    "        if overlap > max_overlap:\n",
    "            max_overlap = overlap\n",
    "            best_sense = sense\n",
    "\n",
    "    return best_sense\n",
    "\n",
    "# Example usage\n",
    "sentence = \"He sat by the bank of the river.\"\n",
    "word = \"bank\"\n",
    "best_sense = lesk_algorithm(word, sentence)\n",
    "\n",
    "print(f\"Best sense: {best_sense.name()} - {best_sense.definition()}\")\n"
   ]
  },
  {
   "cell_type": "code",
   "execution_count": null,
   "metadata": {},
   "outputs": [],
   "source": []
  }
 ],
 "metadata": {
  "kernelspec": {
   "display_name": "temp",
   "language": "python",
   "name": "python3"
  },
  "language_info": {
   "codemirror_mode": {
    "name": "ipython",
    "version": 3
   },
   "file_extension": ".py",
   "mimetype": "text/x-python",
   "name": "python",
   "nbconvert_exporter": "python",
   "pygments_lexer": "ipython3",
   "version": "3.12.4"
  }
 },
 "nbformat": 4,
 "nbformat_minor": 2
}
