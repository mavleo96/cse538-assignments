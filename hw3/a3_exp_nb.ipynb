{
 "cells": [
  {
   "cell_type": "code",
   "execution_count": 1,
   "metadata": {},
   "outputs": [],
   "source": [
    "import os, sys, random, re, collections, string\n",
    "import numpy as np\n",
    "import torch\n",
    "import math\n",
    "import csv\n",
    "import sklearn.model_selection\n",
    "import sklearn.metrics\n",
    "import heapq\n",
    "import matplotlib\n",
    "import tqdm\n",
    "import transformers\n",
    "import datasets\n",
    "import sentence_transformers\n",
    "from datasets import load_dataset\n",
    "from transformers import GPT2Tokenizer, GPT2LMHeadModel\n",
    "import pandas as pd\n",
    "\n",
    "import torch\n",
    "import torch.nn as nn\n",
    "import torch.nn.functional as F\n",
    "from torch.utils.data import DataLoader, TensorDataset\n",
    "\n",
    "from torch.optim import AdamW\n",
    "\n",
    "from sklearn.metrics import accuracy_score, precision_score, recall_score, f1_score, confusion_matrix"
   ]
  },
  {
   "cell_type": "code",
   "execution_count": 20,
   "metadata": {},
   "outputs": [],
   "source": [
    "true = np.random.randint(0, 2, (1, 100)).reshape(-1)\n",
    "pred = np.random.randint(0, 2, (1, 100)).reshape(-1)\n",
    "# pred = np.full((1, 100), 0).reshape(-1)"
   ]
  },
  {
   "cell_type": "code",
   "execution_count": 21,
   "metadata": {},
   "outputs": [
    {
     "data": {
      "text/plain": [
       "array([[35, 25],\n",
       "       [19, 21]])"
      ]
     },
     "execution_count": 21,
     "metadata": {},
     "output_type": "execute_result"
    }
   ],
   "source": [
    "cm = confusion_matrix(true, pred)\n",
    "cm"
   ]
  },
  {
   "cell_type": "code",
   "execution_count": 25,
   "metadata": {},
   "outputs": [
    {
     "name": "stdout",
     "output_type": "stream",
     "text": [
      "acc: 0.560, f1: 0.551\n",
      "Yes: prec: 0.457, recall: 0.525, f1: 0.488\n",
      "No: prec: 0.648, recall: 0.583, f1: 0.614\n",
      "\n"
     ]
    }
   ],
   "source": [
    "print(f\"\"\"acc: {accuracy_score(true, pred):.3f}, f1: {f1_score(true, pred, average=\"macro\"):.3f}\n",
    "Yes: prec: {precision_score(true, pred, pos_label=1, zero_division=0):.3f}, recall: {recall_score(true, pred, pos_label=1, zero_division=0):.3f}, f1: {f1_score(true, pred, pos_label=1, zero_division=0):.3f}\n",
    "No: prec: {precision_score(true, pred, pos_label=0, zero_division=0):.3f}, recall: {recall_score(true, pred, pos_label=0, zero_division=0):.3f}, f1: {f1_score(true, pred, pos_label=0, zero_division=0):.3f}\n",
    "\"\"\")"
   ]
  },
  {
   "cell_type": "code",
   "execution_count": 26,
   "metadata": {},
   "outputs": [
    {
     "data": {
      "text/plain": [
       "tensor(6.7092)"
      ]
     },
     "execution_count": 26,
     "metadata": {},
     "output_type": "execute_result"
    }
   ],
   "source": [
    "input = torch.randn(1, 500, 100)\n",
    "target = torch.randint(0, 500, (1, 100))\n",
    "F.cross_entropy(input, target)"
   ]
  },
  {
   "cell_type": "code",
   "execution_count": 9,
   "metadata": {},
   "outputs": [
    {
     "data": {
      "text/plain": [
       "DatasetDict({\n",
       "    train: Dataset({\n",
       "        features: ['question', 'answer', 'passage'],\n",
       "        num_rows: 9427\n",
       "    })\n",
       "    validation: Dataset({\n",
       "        features: ['question', 'answer', 'passage'],\n",
       "        num_rows: 3270\n",
       "    })\n",
       "})"
      ]
     },
     "execution_count": 9,
     "metadata": {},
     "output_type": "execute_result"
    }
   ],
   "source": [
    "\n",
    "# Parts I and II\n",
    "boolq_dataset = load_dataset('google/boolq')\n",
    "\n",
    "boolq_dataset"
   ]
  },
  {
   "cell_type": "code",
   "execution_count": 10,
   "metadata": {},
   "outputs": [],
   "source": [
    "val_labels = [1 if x[\"answer\"] else 0 for x in boolq_dataset[\"validation\"]]"
   ]
  },
  {
   "cell_type": "code",
   "execution_count": 11,
   "metadata": {},
   "outputs": [],
   "source": [
    "from transformers import GPT2Tokenizer, GPT2LMHeadModel, AutoModelForCausalLM\n",
    "tokenizer = GPT2Tokenizer.from_pretrained('distilgpt2')\n",
    "# model = GPT2LMHeadModel.from_pretrained('distilgpt2').cuda()\n",
    "# model = AutoModelForCausalLM.from_pretrained('distilgpt2').cuda()"
   ]
  },
  {
   "cell_type": "code",
   "execution_count": 16,
   "metadata": {},
   "outputs": [
    {
     "data": {
      "text/plain": [
       "(8505, [3919], [3763], [645])"
      ]
     },
     "execution_count": 16,
     "metadata": {},
     "output_type": "execute_result"
    }
   ],
   "source": [
    "tokenizer.encode(\"yes\")[0], tokenizer.encode(\"no\"), tokenizer.encode(\" yes\"), tokenizer.encode(\" no\")"
   ]
  },
  {
   "cell_type": "code",
   "execution_count": 13,
   "metadata": {},
   "outputs": [],
   "source": [
    "\n",
    "def boolq2tensor(x, append_answer=False):\n",
    "    if append_answer:\n",
    "        return tokenizer.encode(f\"{x['passage']}.\\n{x['question']}?\\n{'yes' if x['answer'] else 'no'}\", return_tensors=\"pt\")\n",
    "    else:\n",
    "        return tokenizer.encode(f\"{x['passage']}.\\n{x['question']}?\\n\", return_tensors=\"pt\")\n",
    "# List is alright here for the moment since max token length is 1024 and the max in the dataset is 25\n",
    "val_set = [boolq2tensor(x) for x in boolq_dataset[\"validation\"]]\n",
    "train_set = [boolq2tensor(x, append_answer=True) for x in boolq_dataset[\"train\"]]"
   ]
  },
  {
   "cell_type": "code",
   "execution_count": 16,
   "metadata": {},
   "outputs": [],
   "source": [
    "val_len = pd.Series(val_set).apply(lambda x: x.shape[1])\n",
    "train_len = pd.Series(train_set).apply(lambda x: x.shape[1])"
   ]
  },
  {
   "cell_type": "code",
   "execution_count": null,
   "metadata": {},
   "outputs": [
    {
     "data": {
      "text/plain": [
       "<Axes: >"
      ]
     },
     "execution_count": 18,
     "metadata": {},
     "output_type": "execute_result"
    },
    {
     "data": {
      "image/png": "[encoded data removed]",
      "text/plain": [
       "<Figure size 640x480 with 1 Axes>"
      ]
     },
     "metadata": {},
     "output_type": "display_data"
    }
   ],
   "source": [
    "val_len.hist(bins=100)\n",
    "\n"
   ]
  },
  {
   "cell_type": "code",
   "execution_count": 19,
   "metadata": {},
   "outputs": [
    {
     "data": {
      "text/plain": [
       "<Axes: >"
      ]
     },
     "execution_count": 19,
     "metadata": {},
     "output_type": "execute_result"
    },
    {
     "data": {
      "image/png": "[encoded data removed]",
      "text/plain": [
       "<Figure size 640x480 with 1 Axes>"
      ]
     },
     "metadata": {},
     "output_type": "display_data"
    }
   ],
   "source": [
    "train_len.hist(bins=100)"
   ]
  },
  {
   "cell_type": "code",
   "execution_count": null,
   "metadata": {},
   "outputs": [],
   "source": []
  },
  {
   "cell_type": "code",
   "execution_count": 13,
   "metadata": {},
   "outputs": [],
   "source": [
    "def tensorlist2padded(tensorlist, length: int, pad_token_id: int, pad_strategy: str):\n",
    "    assert len(tensorlist) > 0\n",
    "    assert all(x.ndim == 2 for x in tensorlist)\n",
    "    assert all(x.shape[0] == 1 for x in tensorlist)\n",
    "    assert length > 0\n",
    "    assert pad_token_id is not None\n",
    "    assert pad_strategy in {\"left\", \"right\"}\n",
    "\n",
    "    for i, x in enumerate(tensorlist):\n",
    "        if x.shape[1] < length:\n",
    "            if pad_strategy == \"left\":\n",
    "                tensorlist[i] = torch.cat([torch.full((1, length - x.shape[1]), pad_token_id), x], dim=1)\n",
    "            else:\n",
    "                tensorlist[i] = torch.cat([x, torch.full((1, length - x.shape[1]), pad_token_id)], dim=1)\n",
    "        elif x.shape[1] > length:\n",
    "            if pad_strategy == \"left\":\n",
    "                tensorlist[i] = x[:, -length:]\n",
    "            else:\n",
    "                tensorlist[i] = x[:, :length]\n",
    "        else:\n",
    "            assert x.shape[1] == length\n",
    "\n",
    "    concat_tensor = torch.cat(tensorlist, dim=0)\n",
    "    return concat_tensor\n",
    "\n",
    "# val_tensor = tensorlist2padded(val_set, 200, tokenizer.unk_token_id, \"left\").cuda()\n",
    "# train_tensor = tensorlist2padded(train_set, 1024, tokenizer.unk_token_id, \"left\").cuda()\n"
   ]
  },
  {
   "cell_type": "code",
   "execution_count": 14,
   "metadata": {},
   "outputs": [],
   "source": [
    "# train_loader = DataLoader(train_tensor, batch_size=64, shuffle=True)\n",
    "# val_loader = DataLoader(val_tensor, batch_size=16, shuffle=False)\n"
   ]
  },
  {
   "cell_type": "code",
   "execution_count": 20,
   "metadata": {},
   "outputs": [
    {
     "name": "stderr",
     "output_type": "stream",
     "text": [
      "100%|██████████| 3270/3270 [00:07<00:00, 413.97it/s]\n"
     ]
    }
   ],
   "source": [
    "labels_pred = []\n",
    "# for x in val_set:\n",
    "for x in tqdm.tqdm(val_set):\n",
    "    with torch.no_grad():\n",
    "        if x.shape[1] > 1024:\n",
    "            x = x[:, -1024:]\n",
    "        out = model(x.cuda()).logits\n",
    "        # labels_pred.extend(out[:, -1, [645, 3763]].argmax(dim=1).cpu().tolist())\n",
    "        labels_pred.extend(out[:, -1, [3919, 8505]].argmax(dim=1).cpu().tolist())\n",
    "\n",
    "# tokenizer.decode(out[:, -1, :].argmax(dim=1))"
   ]
  },
  {
   "cell_type": "code",
   "execution_count": 21,
   "metadata": {},
   "outputs": [],
   "source": [
    "# labels_pred = []\n",
    "# for x in val_loader:\n",
    "#     with torch.no_grad():\n",
    "#         out = model(x.cuda()).logits\n",
    "#         labels_pred.extend(out[:, -1, [645, 3763]].argmax(dim=1).cpu().tolist())\n"
   ]
  },
  {
   "cell_type": "code",
   "execution_count": 22,
   "metadata": {},
   "outputs": [],
   "source": [
    "labels = [1 if x['answer'] else 0 for x in boolq_dataset[\"validation\"]]"
   ]
  },
  {
   "cell_type": "code",
   "execution_count": 23,
   "metadata": {},
   "outputs": [
    {
     "data": {
      "text/plain": [
       "(Counter({0: 2303, 1: 967}), Counter({1: 2033, 0: 1237}))"
      ]
     },
     "execution_count": 23,
     "metadata": {},
     "output_type": "execute_result"
    }
   ],
   "source": [
    "from collections import Counter\n",
    "Counter(labels_pred), Counter(labels)"
   ]
  },
  {
   "cell_type": "code",
   "execution_count": null,
   "metadata": {},
   "outputs": [],
   "source": [
    "# tokenizer.encode([\"no\", \"yes\"]) -> [3919, 8505]\n",
    "output_stacked = torch.stack(outputs)[:, [645, 3763]]"
   ]
  },
  {
   "cell_type": "code",
   "execution_count": 45,
   "metadata": {},
   "outputs": [],
   "source": [
    "labels = np.array([1 if x['answer'] else 0 for x in boolq_dataset[\"validation\"]])"
   ]
  },
  {
   "cell_type": "code",
   "execution_count": 46,
   "metadata": {},
   "outputs": [],
   "source": [
    "label_pred = output_stacked.argmax(dim=1)\n",
    "label_pred = label_pred.cpu().numpy()"
   ]
  },
  {
   "cell_type": "code",
   "execution_count": null,
   "metadata": {},
   "outputs": [],
   "source": [
    "print(f\"\"\"\n",
    "Overall: acc: {accuracy_score(labels, label_pred):.3f}, f1: {f1_score(labels, label_pred):.3f}\n",
    "    Yes: prec: {precision_score(labels, label_pred, pos_label=1):.3f}, recall: {recall_score(labels, label_pred, pos_label=1):.3f}, f1: {f1_score(labels, label_pred, pos_label=1):.3f}\n",
    "     No: prec: {precision_score(labels, label_pred, pos_label=0):.3f}, recall: {recall_score(labels, label_pred, pos_label=0):.3f}, f1: {f1_score(labels, label_pred, pos_label=0):.3f}\n",
    "\"\"\")"
   ]
  },
  {
   "cell_type": "code",
   "execution_count": 65,
   "metadata": {},
   "outputs": [],
   "source": [
    "model = model.cpu()"
   ]
  },
  {
   "cell_type": "code",
   "execution_count": 66,
   "metadata": {},
   "outputs": [],
   "source": [
    "torch.cuda.empty_cache()"
   ]
  },
  {
   "cell_type": "code",
   "execution_count": null,
   "metadata": {},
   "outputs": [],
   "source": [
    "tokenizer.SPECIAL_TOKENS_ATTRIBUTES"
   ]
  },
  {
   "cell_type": "code",
   "execution_count": null,
   "metadata": {},
   "outputs": [],
   "source": [
    "def tensorlist2padded(tensorlist, length=32, pad_token=0):"
   ]
  },
  {
   "cell_type": "code",
   "execution_count": null,
   "metadata": {},
   "outputs": [],
   "source": [
    "max([\n",
    "    boolq2tensor(x).shape[1]\n",
    "    for x in boolq_dataset[\"train\"]\n",
    "])"
   ]
  },
  {
   "cell_type": "code",
   "execution_count": null,
   "metadata": {},
   "outputs": [],
   "source": [
    "boolq_dataset[\"train\"]"
   ]
  },
  {
   "cell_type": "code",
   "execution_count": null,
   "metadata": {},
   "outputs": [],
   "source": []
  }
 ],
 "metadata": {
  "kernelspec": {
   "display_name": "cse538",
   "language": "python",
   "name": "python3"
  },
  "language_info": {
   "codemirror_mode": {
    "name": "ipython",
    "version": 3
   },
   "file_extension": ".py",
   "mimetype": "text/x-python",
   "name": "python",
   "nbconvert_exporter": "python",
   "pygments_lexer": "ipython3",
   "version": "3.12.9"
  }
 },
 "nbformat": 4,
 "nbformat_minor": 2
}
